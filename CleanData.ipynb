{
 "cells": [
  {
   "cell_type": "markdown",
   "metadata": {},
   "source": [
    "# This notebook is used for cleaning the data and creating two datasets that will later be used in fake and real news article classifier."
   ]
  },
  {
   "cell_type": "code",
   "execution_count": 1,
   "metadata": {},
   "outputs": [],
   "source": [
    "import pandas as pd\n",
    "import numpy as np\n"
   ]
  },
  {
   "cell_type": "code",
   "execution_count": 2,
   "metadata": {},
   "outputs": [],
   "source": [
    "fake_original = pd.read_csv(\"Raw_datasets/Fake.csv\")\n",
    "true_original = pd.read_csv(\"Raw_datasets/True.csv\")\n",
    "mixture = pd.read_csv(\"Raw_datasets/news_articles.csv\")\n",
    "fake = fake_original.copy()\n",
    "true = true_original.copy()\n",
    "mixture_clean = mixture.copy()"
   ]
  },
  {
   "cell_type": "code",
   "execution_count": 3,
   "metadata": {},
   "outputs": [],
   "source": [
    "mixture_clean = mixture_clean.dropna()\n",
    "mixture_clean = mixture_clean[['title','text', 'published', 'label', 'title_without_stopwords','text_without_stopwords']]\n",
    "\n",
    "fake = fake.dropna()\n",
    "true = true.dropna()"
   ]
  },
  {
   "cell_type": "code",
   "execution_count": 4,
   "metadata": {},
   "outputs": [],
   "source": [
    "mixture_clean.rename(columns={\"published\":\"date\"}, inplace=True)\n",
    "#YYYY-MM-DDThh:mm:ss.sTZD our current date format.\n",
    "\n",
    "mixture_clean = mixture_clean[~mixture_clean.date.str.contains('http')]\n",
    "\n",
    "\n",
    "\n",
    "mixture_clean['date'] = pd.to_datetime(mixture_clean['date'], utc=True)\n",
    "mixture_clean.date = pd.to_datetime(mixture_clean.date).dt.date"
   ]
  },
  {
   "cell_type": "code",
   "execution_count": 5,
   "metadata": {},
   "outputs": [],
   "source": [
    "fake = fake[fake.date.str.contains('20')]\n",
    "true = true[true.date.str.contains('20')]\n",
    "\n",
    "#in case some URL has 20 written inside of them.\n",
    "fake = fake[~fake.date.str.contains('http')]\n",
    "true = true[~true.date.str.contains('http')]"
   ]
  },
  {
   "cell_type": "code",
   "execution_count": 6,
   "metadata": {},
   "outputs": [],
   "source": [
    "fake['date'] = pd.to_datetime(fake['date'])\n",
    "true['date'] = pd.to_datetime(true['date'])\n",
    "fake.drop(['subject'], axis=1, inplace=True)\n",
    "true.drop(['subject'], axis=1, inplace=True)"
   ]
  },
  {
   "cell_type": "code",
   "execution_count": 7,
   "metadata": {},
   "outputs": [],
   "source": [
    "is_real = mixture_clean['label'] == 'Real'\n",
    "mix_true_stop = mixture_clean[is_real]\n",
    "mix_true_stop = mix_true_stop.drop(['title', 'label', 'text'], axis=1)\n",
    "\n",
    "mix_true = mixture_clean[is_real]\n",
    "mix_true = mix_true.drop(['title_without_stopwords', 'text_without_stopwords', 'label'], axis=1)"
   ]
  },
  {
   "cell_type": "code",
   "execution_count": 8,
   "metadata": {},
   "outputs": [],
   "source": [
    "mix_fake_stop = mixture_clean[~is_real]\n",
    "mix_fake_stop = mix_fake_stop.drop(['title', 'label', 'text'], axis=1)\n",
    "\n",
    "mix_fake = mixture_clean[~is_real]\n",
    "mix_fake = mix_fake.drop(['title_without_stopwords', 'text_without_stopwords', 'label'], axis=1)"
   ]
  },
  {
   "cell_type": "code",
   "execution_count": 14,
   "metadata": {},
   "outputs": [],
   "source": [
    "#Correct order of columns should be [title, text, date]\n",
    "mix_true_stop = mix_true_stop[['title_without_stopwords', 'text_without_stopwords', 'date']]\n",
    "mix_fake_stop = mix_fake_stop[['title_without_stopwords', 'text_without_stopwords', 'date']]\n",
    "\n",
    "mix_true = mix_true[['title','text','date']]\n",
    "mix_fake = mix_fake[['title','text','date']]\n",
    "\n",
    "mix_fake_stop.reset_index(drop=True, inplace=True)\n",
    "mix_true_stop.reset_index(drop=True, inplace=True)\n",
    "mix_true.reset_index(drop=True, inplace=True)\n",
    "mix_fake.reset_index(drop=True, inplace=True)\n",
    "fake.reset_index(drop=True, inplace=True)\n",
    "true.reset_index(drop=True, inplace=True)"
   ]
  },
  {
   "cell_type": "code",
   "execution_count": 15,
   "metadata": {},
   "outputs": [],
   "source": [
    "mix_true.to_csv('Datasets/mix_true.csv', index=True, header =True)\n",
    "mix_fake.to_csv('Datasets/mix_fake.csv', index=True, header =True)\n",
    "\n",
    "fake.to_csv('Datasets/fake.csv', index=True, header =True)\n",
    "true.to_csv('Datasets/true.csv', index=True, header =True)\n",
    "\n",
    "mix_true_stop.to_csv('Datasets/mix_true_with_stop.csv', index=True, header =True)\n",
    "mix_fake_stop.to_csv('Datasets/mix_fake_with_stop.csv', index=True, header =True)"
   ]
  },
  {
   "cell_type": "code",
   "execution_count": 18,
   "metadata": {},
   "outputs": [],
   "source": [
    "fake['legit'] = 0\n",
    "true['legit'] = 1"
   ]
  },
  {
   "cell_type": "code",
   "execution_count": 21,
   "metadata": {},
   "outputs": [],
   "source": [
    "fakeTrue = pd.concat([fake,true])\n",
    "fakeTrue.reset_index(drop=True, inplace=True)"
   ]
  },
  {
   "cell_type": "code",
   "execution_count": 23,
   "metadata": {},
   "outputs": [],
   "source": [
    "fakeTrue.to_csv('Datasets/fakeTrue.csv', index=True, header=True)"
   ]
  },
  {
   "cell_type": "code",
   "execution_count": null,
   "metadata": {},
   "outputs": [],
   "source": []
  }
 ],
 "metadata": {
  "kernelspec": {
   "display_name": "Python 3",
   "language": "python",
   "name": "python3"
  },
  "language_info": {
   "codemirror_mode": {
    "name": "ipython",
    "version": 3
   },
   "file_extension": ".py",
   "mimetype": "text/x-python",
   "name": "python",
   "nbconvert_exporter": "python",
   "pygments_lexer": "ipython3",
   "version": "3.7.3"
  }
 },
 "nbformat": 4,
 "nbformat_minor": 2
}

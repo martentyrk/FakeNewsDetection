{
 "cells": [
  {
   "cell_type": "markdown",
   "metadata": {},
   "source": [
    "### Import everything necessary to build the models"
   ]
  },
  {
   "cell_type": "code",
   "execution_count": 43,
   "metadata": {},
   "outputs": [],
   "source": [
    "import pandas as pd\n",
    "import matplotlib.pyplot as plt\n",
    "import nltk\n",
    "from nltk.tokenize import word_tokenize\n",
    "from nltk.corpus import stopwords\n",
    "from sklearn.model_selection import train_test_split\n",
    "from sklearn.feature_extraction.text import TfidfVectorizer\n",
    "from sklearn.linear_model import LogisticRegression\n",
    "from sklearn.tree import DecisionTreeClassifier\n",
    "from sklearn.ensemble import RandomForestClassifier\n",
    "from sklearn.naive_bayes import MultinomialNB\n",
    "from sklearn import metrics\n",
    "import re\n",
    "import string"
   ]
  },
  {
   "cell_type": "markdown",
   "metadata": {},
   "source": [
    "### Download packages for nltk"
   ]
  },
  {
   "cell_type": "code",
   "execution_count": 2,
   "metadata": {},
   "outputs": [
    {
     "name": "stderr",
     "output_type": "stream",
     "text": [
      "[nltk_data] Downloading package stopwords to\n",
      "[nltk_data]     /Users/marten/nltk_data...\n",
      "[nltk_data]   Package stopwords is already up-to-date!\n",
      "[nltk_data] Downloading package punkt to /Users/marten/nltk_data...\n",
      "[nltk_data]   Package punkt is already up-to-date!\n"
     ]
    },
    {
     "data": {
      "text/plain": [
       "True"
      ]
     },
     "execution_count": 2,
     "metadata": {},
     "output_type": "execute_result"
    }
   ],
   "source": [
    "nltk.download(\"stopwords\")\n",
    "nltk.download(\"punkt\")"
   ]
  },
  {
   "cell_type": "markdown",
   "metadata": {},
   "source": [
    "### Read in news data"
   ]
  },
  {
   "cell_type": "code",
   "execution_count": 3,
   "metadata": {},
   "outputs": [],
   "source": [
    "true1 = pd.read_csv(\"./Datasets/true.csv\")\n",
    "true2 = pd.read_csv(\"./Datasets/mix_true.csv\")\n",
    "fake1 = pd.read_csv(\"./Datasets/fake.csv\")\n",
    "fake2 = pd.read_csv(\"./Datasets/mix_fake.csv\")"
   ]
  },
  {
   "cell_type": "code",
   "execution_count": 4,
   "metadata": {},
   "outputs": [
    {
     "data": {
      "text/html": [
       "<div>\n",
       "<style scoped>\n",
       "    .dataframe tbody tr th:only-of-type {\n",
       "        vertical-align: middle;\n",
       "    }\n",
       "\n",
       "    .dataframe tbody tr th {\n",
       "        vertical-align: top;\n",
       "    }\n",
       "\n",
       "    .dataframe thead th {\n",
       "        text-align: right;\n",
       "    }\n",
       "</style>\n",
       "<table border=\"1\" class=\"dataframe\">\n",
       "  <thead>\n",
       "    <tr style=\"text-align: right;\">\n",
       "      <th></th>\n",
       "      <th>title</th>\n",
       "      <th>text</th>\n",
       "      <th>date</th>\n",
       "    </tr>\n",
       "  </thead>\n",
       "  <tbody>\n",
       "    <tr>\n",
       "      <th>0</th>\n",
       "      <td>as u.s  budget fight looms  republicans flip t...</td>\n",
       "      <td>washington  reuters    the head of a conservat...</td>\n",
       "      <td>2017-12-31</td>\n",
       "    </tr>\n",
       "    <tr>\n",
       "      <th>1</th>\n",
       "      <td>u.s  military to accept transgender recruits o...</td>\n",
       "      <td>washington  reuters    transgender people will...</td>\n",
       "      <td>2017-12-29</td>\n",
       "    </tr>\n",
       "    <tr>\n",
       "      <th>2</th>\n",
       "      <td>senior u.s  republican senator   let mr  muell...</td>\n",
       "      <td>washington  reuters    the special cou.sel inv...</td>\n",
       "      <td>2017-12-31</td>\n",
       "    </tr>\n",
       "    <tr>\n",
       "      <th>3</th>\n",
       "      <td>fbi ru.sia probe helped by australian diplomat...</td>\n",
       "      <td>washington  reuters    trump campaign adviser ...</td>\n",
       "      <td>2017-12-30</td>\n",
       "    </tr>\n",
       "    <tr>\n",
       "      <th>4</th>\n",
       "      <td>trump wants postal service to charge  much mor...</td>\n",
       "      <td>seattle washington  reuters    president donal...</td>\n",
       "      <td>2017-12-29</td>\n",
       "    </tr>\n",
       "  </tbody>\n",
       "</table>\n",
       "</div>"
      ],
      "text/plain": [
       "                                               title  \\\n",
       "0  as u.s  budget fight looms  republicans flip t...   \n",
       "1  u.s  military to accept transgender recruits o...   \n",
       "2  senior u.s  republican senator   let mr  muell...   \n",
       "3  fbi ru.sia probe helped by australian diplomat...   \n",
       "4  trump wants postal service to charge  much mor...   \n",
       "\n",
       "                                                text        date  \n",
       "0  washington  reuters    the head of a conservat...  2017-12-31  \n",
       "1  washington  reuters    transgender people will...  2017-12-29  \n",
       "2  washington  reuters    the special cou.sel inv...  2017-12-31  \n",
       "3  washington  reuters    trump campaign adviser ...  2017-12-30  \n",
       "4  seattle washington  reuters    president donal...  2017-12-29  "
      ]
     },
     "execution_count": 4,
     "metadata": {},
     "output_type": "execute_result"
    }
   ],
   "source": [
    "true1.head()"
   ]
  },
  {
   "cell_type": "code",
   "execution_count": 5,
   "metadata": {},
   "outputs": [
    {
     "data": {
      "text/html": [
       "<div>\n",
       "<style scoped>\n",
       "    .dataframe tbody tr th:only-of-type {\n",
       "        vertical-align: middle;\n",
       "    }\n",
       "\n",
       "    .dataframe tbody tr th {\n",
       "        vertical-align: top;\n",
       "    }\n",
       "\n",
       "    .dataframe thead th {\n",
       "        text-align: right;\n",
       "    }\n",
       "</style>\n",
       "<table border=\"1\" class=\"dataframe\">\n",
       "  <thead>\n",
       "    <tr style=\"text-align: right;\">\n",
       "      <th></th>\n",
       "      <th>title</th>\n",
       "      <th>text</th>\n",
       "      <th>date</th>\n",
       "    </tr>\n",
       "  </thead>\n",
       "  <tbody>\n",
       "    <tr>\n",
       "      <th>0</th>\n",
       "      <td>intl community still financing protecting terr...</td>\n",
       "      <td>st century wire says  wire reported on friday ...</td>\n",
       "      <td>2016-10-26</td>\n",
       "    </tr>\n",
       "    <tr>\n",
       "      <th>1</th>\n",
       "      <td>fbi director comeys leaked memo explains why h...</td>\n",
       "      <td>in a stunning turn of events  days before the ...</td>\n",
       "      <td>2016-10-29</td>\n",
       "    </tr>\n",
       "    <tr>\n",
       "      <th>2</th>\n",
       "      <td>fbi redux whats behind new probe into hillary ...</td>\n",
       "      <td>a tidal wave of revelations is pouring out of ...</td>\n",
       "      <td>2016-10-29</td>\n",
       "    </tr>\n",
       "    <tr>\n",
       "      <th>3</th>\n",
       "      <td>party corruption clinton campaign directly tie...</td>\n",
       "      <td>november   by wire  comments  patrick hennings...</td>\n",
       "      <td>2016-11-01</td>\n",
       "    </tr>\n",
       "    <tr>\n",
       "      <th>4</th>\n",
       "      <td>hillarys ru.sian hack hoax the biggest lie of ...</td>\n",
       "      <td>november   by shawn helton  comment  shawn hel...</td>\n",
       "      <td>2016-11-01</td>\n",
       "    </tr>\n",
       "  </tbody>\n",
       "</table>\n",
       "</div>"
      ],
      "text/plain": [
       "                                               title  \\\n",
       "0  intl community still financing protecting terr...   \n",
       "1  fbi director comeys leaked memo explains why h...   \n",
       "2  fbi redux whats behind new probe into hillary ...   \n",
       "3  party corruption clinton campaign directly tie...   \n",
       "4  hillarys ru.sian hack hoax the biggest lie of ...   \n",
       "\n",
       "                                                text        date  \n",
       "0  st century wire says  wire reported on friday ...  2016-10-26  \n",
       "1  in a stunning turn of events  days before the ...  2016-10-29  \n",
       "2  a tidal wave of revelations is pouring out of ...  2016-10-29  \n",
       "3  november   by wire  comments  patrick hennings...  2016-11-01  \n",
       "4  november   by shawn helton  comment  shawn hel...  2016-11-01  "
      ]
     },
     "execution_count": 5,
     "metadata": {},
     "output_type": "execute_result"
    }
   ],
   "source": [
    "fake2.head()"
   ]
  },
  {
   "cell_type": "markdown",
   "metadata": {},
   "source": [
    "### Assign a class value of 1 to legitimate news and a class value of 0 to fake news"
   ]
  },
  {
   "cell_type": "code",
   "execution_count": 6,
   "metadata": {},
   "outputs": [],
   "source": [
    "true1[\"class\"] = 1\n",
    "true2[\"class\"] = 1"
   ]
  },
  {
   "cell_type": "code",
   "execution_count": 7,
   "metadata": {},
   "outputs": [],
   "source": [
    "fake1[\"class\"] = 0\n",
    "fake2[\"class\"] = 0"
   ]
  },
  {
   "cell_type": "markdown",
   "metadata": {},
   "source": [
    "### Combine all the fake and legitimate news into one dataframe"
   ]
  },
  {
   "cell_type": "code",
   "execution_count": 8,
   "metadata": {},
   "outputs": [
    {
     "data": {
      "text/html": [
       "<div>\n",
       "<style scoped>\n",
       "    .dataframe tbody tr th:only-of-type {\n",
       "        vertical-align: middle;\n",
       "    }\n",
       "\n",
       "    .dataframe tbody tr th {\n",
       "        vertical-align: top;\n",
       "    }\n",
       "\n",
       "    .dataframe thead th {\n",
       "        text-align: right;\n",
       "    }\n",
       "</style>\n",
       "<table border=\"1\" class=\"dataframe\">\n",
       "  <thead>\n",
       "    <tr style=\"text-align: right;\">\n",
       "      <th></th>\n",
       "      <th>title</th>\n",
       "      <th>text</th>\n",
       "      <th>date</th>\n",
       "      <th>class</th>\n",
       "    </tr>\n",
       "  </thead>\n",
       "  <tbody>\n",
       "    <tr>\n",
       "      <th>0</th>\n",
       "      <td>as u.s  budget fight looms  republicans flip t...</td>\n",
       "      <td>washington  reuters    the head of a conservat...</td>\n",
       "      <td>2017-12-31</td>\n",
       "      <td>1</td>\n",
       "    </tr>\n",
       "    <tr>\n",
       "      <th>1</th>\n",
       "      <td>u.s  military to accept transgender recruits o...</td>\n",
       "      <td>washington  reuters    transgender people will...</td>\n",
       "      <td>2017-12-29</td>\n",
       "      <td>1</td>\n",
       "    </tr>\n",
       "    <tr>\n",
       "      <th>2</th>\n",
       "      <td>senior u.s  republican senator   let mr  muell...</td>\n",
       "      <td>washington  reuters    the special cou.sel inv...</td>\n",
       "      <td>2017-12-31</td>\n",
       "      <td>1</td>\n",
       "    </tr>\n",
       "    <tr>\n",
       "      <th>3</th>\n",
       "      <td>fbi ru.sia probe helped by australian diplomat...</td>\n",
       "      <td>washington  reuters    trump campaign adviser ...</td>\n",
       "      <td>2017-12-30</td>\n",
       "      <td>1</td>\n",
       "    </tr>\n",
       "    <tr>\n",
       "      <th>4</th>\n",
       "      <td>trump wants postal service to charge  much mor...</td>\n",
       "      <td>seattle washington  reuters    president donal...</td>\n",
       "      <td>2017-12-29</td>\n",
       "      <td>1</td>\n",
       "    </tr>\n",
       "    <tr>\n",
       "      <th>...</th>\n",
       "      <td>...</td>\n",
       "      <td>...</td>\n",
       "      <td>...</td>\n",
       "      <td>...</td>\n",
       "    </tr>\n",
       "    <tr>\n",
       "      <th>1285</th>\n",
       "      <td>how to report voter fraud  crash cou.se</td>\n",
       "      <td>print sidebyside of bill clinton and danney wi...</td>\n",
       "      <td>2016-11-08</td>\n",
       "      <td>0</td>\n",
       "    </tr>\n",
       "    <tr>\n",
       "      <th>1286</th>\n",
       "      <td>national attention on ayotte  hassan nh senate...</td>\n",
       "      <td>print  have you ever noticed how washington al...</td>\n",
       "      <td>2016-11-09</td>\n",
       "      <td>0</td>\n",
       "    </tr>\n",
       "    <tr>\n",
       "      <th>1287</th>\n",
       "      <td>how to have honest elections</td>\n",
       "      <td>will it be representative government or thugoc...</td>\n",
       "      <td>2016-11-12</td>\n",
       "      <td>0</td>\n",
       "    </tr>\n",
       "    <tr>\n",
       "      <th>1288</th>\n",
       "      <td>all wars are bankers wars</td>\n",
       "      <td>for those who are too young or too unwilling t...</td>\n",
       "      <td>2016-11-18</td>\n",
       "      <td>0</td>\n",
       "    </tr>\n",
       "    <tr>\n",
       "      <th>1289</th>\n",
       "      <td>snow reports from around the northland duluth ...</td>\n",
       "      <td>while democrats perpetually circle the wagons ...</td>\n",
       "      <td>2016-11-19</td>\n",
       "      <td>0</td>\n",
       "    </tr>\n",
       "  </tbody>\n",
       "</table>\n",
       "<p>46896 rows × 4 columns</p>\n",
       "</div>"
      ],
      "text/plain": [
       "                                                  title  \\\n",
       "0     as u.s  budget fight looms  republicans flip t...   \n",
       "1     u.s  military to accept transgender recruits o...   \n",
       "2     senior u.s  republican senator   let mr  muell...   \n",
       "3     fbi ru.sia probe helped by australian diplomat...   \n",
       "4     trump wants postal service to charge  much mor...   \n",
       "...                                                 ...   \n",
       "1285            how to report voter fraud  crash cou.se   \n",
       "1286  national attention on ayotte  hassan nh senate...   \n",
       "1287                       how to have honest elections   \n",
       "1288                          all wars are bankers wars   \n",
       "1289  snow reports from around the northland duluth ...   \n",
       "\n",
       "                                                   text        date  class  \n",
       "0     washington  reuters    the head of a conservat...  2017-12-31      1  \n",
       "1     washington  reuters    transgender people will...  2017-12-29      1  \n",
       "2     washington  reuters    the special cou.sel inv...  2017-12-31      1  \n",
       "3     washington  reuters    trump campaign adviser ...  2017-12-30      1  \n",
       "4     seattle washington  reuters    president donal...  2017-12-29      1  \n",
       "...                                                 ...         ...    ...  \n",
       "1285  print sidebyside of bill clinton and danney wi...  2016-11-08      0  \n",
       "1286  print  have you ever noticed how washington al...  2016-11-09      0  \n",
       "1287  will it be representative government or thugoc...  2016-11-12      0  \n",
       "1288  for those who are too young or too unwilling t...  2016-11-18      0  \n",
       "1289  while democrats perpetually circle the wagons ...  2016-11-19      0  \n",
       "\n",
       "[46896 rows x 4 columns]"
      ]
     },
     "execution_count": 8,
     "metadata": {},
     "output_type": "execute_result"
    }
   ],
   "source": [
    "data = pd.concat([true1, true2, fake1,fake2], axis=0)\n",
    "data"
   ]
  },
  {
   "cell_type": "markdown",
   "metadata": {},
   "source": [
    "### We will only be classifying the news based on text"
   ]
  },
  {
   "cell_type": "code",
   "execution_count": 9,
   "metadata": {},
   "outputs": [],
   "source": [
    "data = data.drop(data.columns.difference([\"text\", \"class\"]), axis=1)"
   ]
  },
  {
   "cell_type": "code",
   "execution_count": 10,
   "metadata": {},
   "outputs": [
    {
     "data": {
      "text/html": [
       "<div>\n",
       "<style scoped>\n",
       "    .dataframe tbody tr th:only-of-type {\n",
       "        vertical-align: middle;\n",
       "    }\n",
       "\n",
       "    .dataframe tbody tr th {\n",
       "        vertical-align: top;\n",
       "    }\n",
       "\n",
       "    .dataframe thead th {\n",
       "        text-align: right;\n",
       "    }\n",
       "</style>\n",
       "<table border=\"1\" class=\"dataframe\">\n",
       "  <thead>\n",
       "    <tr style=\"text-align: right;\">\n",
       "      <th></th>\n",
       "      <th>text</th>\n",
       "      <th>class</th>\n",
       "    </tr>\n",
       "  </thead>\n",
       "  <tbody>\n",
       "    <tr>\n",
       "      <th>0</th>\n",
       "      <td>washington  reuters    the head of a conservat...</td>\n",
       "      <td>1</td>\n",
       "    </tr>\n",
       "    <tr>\n",
       "      <th>1</th>\n",
       "      <td>washington  reuters    transgender people will...</td>\n",
       "      <td>1</td>\n",
       "    </tr>\n",
       "    <tr>\n",
       "      <th>2</th>\n",
       "      <td>washington  reuters    the special cou.sel inv...</td>\n",
       "      <td>1</td>\n",
       "    </tr>\n",
       "    <tr>\n",
       "      <th>3</th>\n",
       "      <td>washington  reuters    trump campaign adviser ...</td>\n",
       "      <td>1</td>\n",
       "    </tr>\n",
       "    <tr>\n",
       "      <th>4</th>\n",
       "      <td>seattle washington  reuters    president donal...</td>\n",
       "      <td>1</td>\n",
       "    </tr>\n",
       "    <tr>\n",
       "      <th>...</th>\n",
       "      <td>...</td>\n",
       "      <td>...</td>\n",
       "    </tr>\n",
       "    <tr>\n",
       "      <th>1285</th>\n",
       "      <td>print sidebyside of bill clinton and danney wi...</td>\n",
       "      <td>0</td>\n",
       "    </tr>\n",
       "    <tr>\n",
       "      <th>1286</th>\n",
       "      <td>print  have you ever noticed how washington al...</td>\n",
       "      <td>0</td>\n",
       "    </tr>\n",
       "    <tr>\n",
       "      <th>1287</th>\n",
       "      <td>will it be representative government or thugoc...</td>\n",
       "      <td>0</td>\n",
       "    </tr>\n",
       "    <tr>\n",
       "      <th>1288</th>\n",
       "      <td>for those who are too young or too unwilling t...</td>\n",
       "      <td>0</td>\n",
       "    </tr>\n",
       "    <tr>\n",
       "      <th>1289</th>\n",
       "      <td>while democrats perpetually circle the wagons ...</td>\n",
       "      <td>0</td>\n",
       "    </tr>\n",
       "  </tbody>\n",
       "</table>\n",
       "<p>46896 rows × 2 columns</p>\n",
       "</div>"
      ],
      "text/plain": [
       "                                                   text  class\n",
       "0     washington  reuters    the head of a conservat...      1\n",
       "1     washington  reuters    transgender people will...      1\n",
       "2     washington  reuters    the special cou.sel inv...      1\n",
       "3     washington  reuters    trump campaign adviser ...      1\n",
       "4     seattle washington  reuters    president donal...      1\n",
       "...                                                 ...    ...\n",
       "1285  print sidebyside of bill clinton and danney wi...      0\n",
       "1286  print  have you ever noticed how washington al...      0\n",
       "1287  will it be representative government or thugoc...      0\n",
       "1288  for those who are too young or too unwilling t...      0\n",
       "1289  while democrats perpetually circle the wagons ...      0\n",
       "\n",
       "[46896 rows x 2 columns]"
      ]
     },
     "execution_count": 10,
     "metadata": {},
     "output_type": "execute_result"
    }
   ],
   "source": [
    "data"
   ]
  },
  {
   "cell_type": "markdown",
   "metadata": {},
   "source": [
    "### Split the data into training and test data\n"
   ]
  },
  {
   "cell_type": "code",
   "execution_count": 11,
   "metadata": {},
   "outputs": [],
   "source": [
    "x_train, x_test, y_train, y_test = train_test_split(data[\"text\"], data[\"class\"], test_size=0.25)"
   ]
  },
  {
   "cell_type": "markdown",
   "metadata": {},
   "source": [
    "### Vectorize the text so the models can actually interpret it"
   ]
  },
  {
   "cell_type": "code",
   "execution_count": 12,
   "metadata": {},
   "outputs": [],
   "source": [
    "# We will be ignoring stop words such as \"the\" \"and\" \"or\"\n",
    "vectorizer = TfidfVectorizer(stop_words=stopwords.words(\"english\"))\n",
    "x_train_vectorized = vectorizer.fit_transform(x_train)\n",
    "x_test_vectorized = vectorizer.transform(x_test)"
   ]
  },
  {
   "cell_type": "markdown",
   "metadata": {},
   "source": [
    "### Logistic Regression model"
   ]
  },
  {
   "cell_type": "code",
   "execution_count": 13,
   "metadata": {},
   "outputs": [
    {
     "name": "stdout",
     "output_type": "stream",
     "text": [
      "LogisticRegression accuracy: 0.9726202661207779\n"
     ]
    }
   ],
   "source": [
    "log_reg = LogisticRegression()\n",
    "log_reg.fit(x_train_vectorized, y_train)\n",
    "pred = log_reg.predict(x_test_vectorized)\n",
    "print(f\"{log_reg.__class__.__name__} accuracy: {log_reg.score(x_test_vectorized, y_test)}\")"
   ]
  },
  {
   "cell_type": "markdown",
   "metadata": {},
   "source": [
    "### Decision tree classifier"
   ]
  },
  {
   "cell_type": "code",
   "execution_count": 14,
   "metadata": {},
   "outputs": [
    {
     "name": "stdout",
     "output_type": "stream",
     "text": [
      "DecisionTreeClassifier accuracy: 0.9831968611395429\n"
     ]
    }
   ],
   "source": [
    "decision_tree = DecisionTreeClassifier(max_depth=100)\n",
    "decision_tree.fit(x_train_vectorized, y_train)\n",
    "\n",
    "print(f\"{decision_tree.__class__.__name__} accuracy: {decision_tree.score(x_test_vectorized, y_test)}\")"
   ]
  },
  {
   "cell_type": "markdown",
   "metadata": {},
   "source": [
    "### Random forest classifier"
   ]
  },
  {
   "cell_type": "code",
   "execution_count": 15,
   "metadata": {},
   "outputs": [
    {
     "name": "stdout",
     "output_type": "stream",
     "text": [
      "RandomForestClassifier accuracy: 0.9522347321733197\n"
     ]
    }
   ],
   "source": [
    "random_forest = RandomForestClassifier(n_estimators=10, max_depth=100)\n",
    "random_forest.fit(x_train_vectorized, y_train)\n",
    "\n",
    "print(f\"{random_forest.__class__.__name__} accuracy: {random_forest.score(x_test_vectorized, y_test)}\")"
   ]
  },
  {
   "cell_type": "markdown",
   "metadata": {},
   "source": [
    "### Multinomial naive Bayes model"
   ]
  },
  {
   "cell_type": "code",
   "execution_count": 16,
   "metadata": {},
   "outputs": [
    {
     "name": "stdout",
     "output_type": "stream",
     "text": [
      "MultinomialNB accuracy: 0.9251961787785739\n"
     ]
    }
   ],
   "source": [
    "multi_nb = MultinomialNB()\n",
    "multi_nb.fit(x_train_vectorized, y_train)\n",
    "print(f\"{multi_nb.__class__.__name__} accuracy: {multi_nb.score(x_test_vectorized, y_test)}\")"
   ]
  },
  {
   "cell_type": "markdown",
   "metadata": {},
   "source": [
    "### ROC curves to show the performance of each model. Shown seperately and all on one plot."
   ]
  },
  {
   "cell_type": "code",
   "execution_count": 17,
   "metadata": {},
   "outputs": [
    {
     "data": {
      "text/plain": [
       "<sklearn.metrics._plot.roc_curve.RocCurveDisplay at 0x7fea0b120240>"
      ]
     },
     "execution_count": 17,
     "metadata": {},
     "output_type": "execute_result"
    },
    {
     "data": {
      "image/png": "[encoded data removed]",
      "text/plain": [
       "<Figure size 432x288 with 1 Axes>"
      ]
     },
     "metadata": {
      "needs_background": "light"
     },
     "output_type": "display_data"
    },
    {
     "data": {
      "image/png": "[encoded data removed]",
      "text/plain": [
       "<Figure size 432x288 with 1 Axes>"
      ]
     },
     "metadata": {
      "needs_background": "light"
     },
     "output_type": "display_data"
    },
    {
     "data": {
      "image/png": "[encoded data removed]",
      "text/plain": [
       "<Figure size 432x288 with 1 Axes>"
      ]
     },
     "metadata": {
      "needs_background": "light"
     },
     "output_type": "display_data"
    },
    {
     "data": {
      "image/png": "[encoded data removed]",
      "text/plain": [
       "<Figure size 432x288 with 1 Axes>"
      ]
     },
     "metadata": {
      "needs_background": "light"
     },
     "output_type": "display_data"
    },
    {
     "data": {
      "image/png": "[encoded data removed]",
      "text/plain": [
       "<Figure size 432x288 with 1 Axes>"
      ]
     },
     "metadata": {
      "needs_background": "light"
     },
     "output_type": "display_data"
    }
   ],
   "source": [
    "ax = plt.gca()\n",
    "log_reg_disp = metrics.plot_roc_curve(log_reg, x_test_vectorized, y_test, alpha=0.8)\n",
    "decision_tree_disp = metrics.plot_roc_curve(decision_tree, x_test_vectorized, y_test, alpha=0.8)\n",
    "random_forest_disp = metrics.plot_roc_curve(random_forest, x_test_vectorized, y_test, alpha=0.8)\n",
    "multi_nb_disp = metrics.plot_roc_curve(multi_nb, x_test_vectorized, y_test, alpha=0.8)\n",
    "decision_tree_disp.plot(ax=ax, alpha=0.8)\n",
    "log_reg_disp.plot(ax=ax,alpha=0.8)\n",
    "random_forest_disp.plot(ax=ax,alpha=0.8)\n",
    "multi_nb_disp.plot(ax=ax, alpha=0.8)"
   ]
  },
  {
   "cell_type": "code",
   "execution_count": 44,
   "metadata": {},
   "outputs": [],
   "source": [
    "def wordCorrect(text):\n",
    "    text = text.lower()\n",
    "    text = re.sub('u.s', 'xUSx', text)\n",
    "    text = re.sub('\\[.*?\\]', '', text)\n",
    "    text = re.sub(\"\\\\W\", \" \", text)\n",
    "    text = re.sub(\"https?://\\S+|www\\. \\S+\", \"\", text)\n",
    "    text = re.sub('<.*?>+', '', text)\n",
    "    text = re.sub('[%s]' % re.escape(string.punctuation), '', text)\n",
    "    text = re.sub('xUSx', 'u.s', text)\n",
    "    \n",
    "    return text"
   ]
  },
  {
   "cell_type": "markdown",
   "metadata": {},
   "source": [
    "## The articles array consists of 4 articles. The first and last are fake, the middle 2 are real from CNN."
   ]
  },
  {
   "cell_type": "code",
   "execution_count": 49,
   "metadata": {},
   "outputs": [
    {
     "data": {
      "text/plain": [
       "array([[0.80274682, 0.19725318],\n",
       "       [0.41467949, 0.58532051],\n",
       "       [0.03584696, 0.96415304]])"
      ]
     },
     "execution_count": 49,
     "metadata": {},
     "output_type": "execute_result"
    }
   ],
   "source": [
    "articles = [\"\"\"On Monday, extremely credible and incredibly accurate reports revealed that Joe Biden will be attending the first presidential debate Tuesday night with an earpiece hidden in his auditory canal and methamphetamine screaming through his blood.\n",
    "\n",
    "These revelations — which definitely are not baseless conspiracies fomented by the Trump campaign in a last-ditch effort to prepare its supporters for the vast disparity between what they’ve been told Joe Biden is like (a man suffering from late-stage dementia) and what he is actually like (an old man who sometimes misspeaks but remains competent at retail politics) — helped spur a new round of reporting on the Democratic nominee’s debate preparations Tuesday afternoon.\n",
    "\n",
    "First, journalist Todd Starnes of The Starnes Media Group (no relation), reported that the Iowa radio station KXEL had itself reported that the “word on the street” was that Joe Biden “got tonight’s debate questions in advance.”\"\"\",\n",
    "              \"\"\"As the first doses of a coronavirus vaccine are prepared for shipment to communities across the United States, President Donald Trump has an opportunity to mark a historic milestone for science -- and show some semblance of leadership in curbing the spread of Covid-19 as the number of US cases crosses 16 million.\n",
    "\n",
    "Instead, he is engaged in self-sabotage, distracting Americans from that great accomplishment for his administration by spreading more election disinformation while questioning whether to fire Attorney General William Barr, in part, because Barr did not inform Trump of the federal investigation into the business dealings of Hunter Biden, the son of President-elect Joe Biden, before the election. Slashing at Barr on Twitter this weekend instead of focusing on saving American lives amid a deadly surge in coronavirus cases, Trump reminded the nation of one of the truisms about the way he has regarded his allies both in business and politics: everyone is expendable if they do not follow his dictates. No matter how loyal an aide has been -- and regardless of how many times they put their own reputation on the line to do Trump's bidding -- the President has shown no compunction about casting them aside as soon he is convinced they are no longer useful as one of his political tools.\n",
    "He has treated the Justice Department as though it were a fleet of his own personal lawyers, attempting to pressure them into investigating his political enemies and showing a disturbing lack of respect for the department's historic independence from politics.\n",
    "During an interview with Fox News that aired Sunday, Trump said he was disappointed that Barr did not reveal the existence of the investigation before the election: \"Everybody is,\" he said. \"Bill Barr should have stepped up.\"\n",
    "Barr, a longtime Trump loyalist who has taken many questionable steps on Trump's behalf, had already infuriated the President by recently telling the Associated Press that he had not seen any evidence to support Trump's false assertions about widespread election fraud that would change the results of the election.\n",
    "Their broken relationship deteriorated further after Trump found out that Barr held to the longtime Justice Department precedent that it should not take overt actions that could affect an election and therefore kept the investigation into Biden's son under wraps before November 3.\n",
    "The two men had a contentious meeting earlier this month, CNN's White House team reported. On Saturday morning, Trump took his grievances public, retweeting a missive suggesting that Barr should be fired by the end of the day. \"Why didn't Bill Barr reveal the truth to the public, before the Election, about Hunter Biden,\" Trump tweeted Saturday. \"Big disadvantage for Republicans at the polls!\"\n",
    "Despite Trump's final legal defeat Friday night -- when the Supreme Court refused to hear a case that was part of the President's scheme to overturn the election results -- he also suggested both on Twitter and in the Fox interview that his efforts to overthrow the election would continue: \"WE HAVE JUST BEGUN TO FIGHT!!!\" he tweeted.\n",
    "When asked whether he worried about the country being divided heading into the inauguration after his relentless onslaught against the American election system, he repeated his ludicrous claim that he won the election and said he was worried about America having an \"illegitimate president.\"\n",
    "A source familiar with the breakdown of the Trump and Barr relationship over their disagreements about the soundness of the election and the Hunter Biden investigation said their recent interactions have shown that Barr won't be intimidated by Trump.\n",
    "\"This is the real story. None of this matters -- it's the deposed king ranting. Irrelevant to the course of justice and to Trump's election loss,\" the source told CNN's Jamie Gangel Saturday after Trump tweeted about his displeasure with Barr.\n",
    "Trump's thirst for attention and praise has clouded even these early days of the vaccine rollout, with doses of the Pfizer and BioNTech vaccine rolling out in trucks headed toward providers early Sunday after the US Food and Drug Administration authorized emergency use of the vaccine late Friday night.\n",
    "Trump has not been pleased watching other nations like the United Kingdom authorize the Pfizer vaccine first -- seeming most concerned about ensuring that he gets the proper credit for his efforts to speed their development through his administration's Operation Warp Speed. In the Fox News interview, he claimed that he deserved the sole credit for the accelerating the development of the vaccine.\n",
    "\"If I wasn't President, according to almost everybody, even the enemy, if I wasn't President you wouldn't have a vaccine for five years,\" Trump said in the interview, which was taped Saturday at the Army-Navy game.\n",
    "\"I pushed the FDA and companies and everybody else involved like nobody's ever been pushed before, and now you have it rolling out and frankly you could have done it last week,\" Trump said. \"They could have even done it a week sooner if they heard from me.\"\n",
    "His frustrations about the pace of the vaccine review process spilled into public view hours before the FDA made its emergency use authorization announcement Friday. CNN reported that White House chief of staff Mark Meadows tried to intervene on behalf of the President by pressuring FDA Commissioner Dr. Stephen Hahn to make the decision by the end of the day, warning that he would be fired if he did not.\n",
    "Hahn insisted Sunday in an interview with CNN's Jake Tapper that political pressure did not affect the process. \"I've been really clear about this in my public statements -- that is an inaccurate representation of the conversation,\" he said of the characterization that he would be fired if he did not comply with the President's wish.\n",
    "But medical experts have warned that even the appearance of a pressure campaign could make Americans more wary about taking the vaccine, because many are already concerned that the process was rushed.\n",
    "\"We've heard from a number of sources, including the White House, that there was a desire for us to move as quickly as possible,\" Hahn said on CNN's \"State of the Union.\" \"We have, but our absolute obligation to the American people was to make sure that we did a thorough scientific review. We needed to ensure that our gold standard of assessing the safety and the efficacy of vaccine was done and was done properly.\"\n",
    "\"We had to get this right, and I believe we did,\" Hahn said.\n",
    "Taking the next step after the FDA's action, a key advisory panel to US Centers for Disease Control and Prevention -- the Advisory Committee on Immunization Practices -- voted to recommend the vaccine Saturday afternoon. The CDC took the final step when Dr. Robert Redfield, director of the CDC, accepted the recommendation of the advisory panel.\n",
    "\"Last night, I was proud to sign the Advisory Committee on Immunization Practices' recommendation to use Pfizer's COVID-19 vaccine in people 16 and older. This official CDC recommendation follows Friday's FDA decision to authorize the emergency use of Pfizer's vaccine,\" Redfield said in a statement Sunday.\n",
    "\"As COVID-19 cases continue to surge throughout the U.S., CDC's recommendation comes at a critical time,\" he continued. \"Initial COVID-19 vaccination is set to start as early as Monday, and this is the next step in our efforts to protect Americans, reduce the impact of the COVID-19 pandemic, and help restore some normalcy to our lives and our country.\"\n",
    "With shipments moving closer to reality, pressure is building on Congress to approve more money for state and local governments that will be overseeing the process of getting the vaccine where it needs to go once it is received by providers.\n",
    "The first 2.9 million doses of the Pfizer vaccine will be administered to front-line health care workers and vulnerable Americans living in nursing homes and long-term care facilities. But Secretary of Health and Human Services Alex Azar has said he expects some 20 million doses to go out this month.\n",
    "Once they are delivered in large quantities, some states will need to help break up the Pfizer shipments and get doses of the vaccine, which must be stored at extraordinarily low temperatures, to the farthest reaches of their states to providers who do not have the equipment to maintain ultra cold temperatures for long periods of time.\n",
    "Lighting a fire under Congress to get aid to states so they can assist in that distribution process -- and begin developing campaigns to fight vaccine skepticism -- would be one area where a Trump pressure campaign would be helpful in getting the vaccine distributed more equitably and expeditiously.\n",
    "But the President has not taken any overt steps to get congressional leaders to the negotiating table. Both sides have acknowledged that an emergency relief package is desperately needed to extend unemployment benefits for millions of unemployed workers and struggling businesses that are on the brink of economic devastation as a result of the closures forced by the pandemic.\n",
    "Despite the best efforts of a bipartisan group of senators to work out a $908 billion framework for the package, negotiations have stalled over disagreements between the two parties on Covid-19 liability protections, which Republicans are insisting on, and more aid to state and local governments, a key priority for Democrats.\n",
    "Louisiana Sen. Bill Cassidy, a Republican member of the bipartisan working group, said the group plans to introduce their emergency stimulus bill Monday night -- which would include financial aid for unemployed Americans and small businesses affected by the coronavirus. But it remains unclear whether Senate Majority Leader Mitch McConnell will advance the proposal.\n",
    "\"What Leader McConnell decides to do, I don't have control over. I only can do what I can do,\" Cassidy told Tapper on Sunday. \"There will be a deal.\"\n",
    "Though Trump has boasted about his prowess as a dealmaker, he has been largely absent as he has focused on fruitless legal battles to overturn the presidential election.\n",
    "Kathleen Sebelius, a former secretary of Health and Human Services in the Obama administration, told CNN's Wolf Blitzer Saturday night that the funding for states that is needed to recruit and mobilize a workforce on the ground to administer the vaccine to millions of Americans is \"one of the big missing pieces of this effort.\"\n",
    "\"The shipping that is being arranged from the Pfizer headquarters in Kalamazoo, (Michigan), to states around the country -- and to cold storage locations in those states -- is the federal government's piece of the puzzle,\" she said on \"The Situation Room.\" Beyond that, \"the Trump administration has said to states, 'You're kind of on your own. You need to get it from there into people's arms,'\" she said.\n",
    "Sebelius noted that the federal government has spent about $10 billion through Operation Warp Speed to help develop a safe and effective vaccine. But \"they have spent, so far, $240 million -- total -- on efforts to state and local governments for increased testing and building up this public workforce.\"\n",
    "\"States say they need a couple of billion dollars. So part of the congressional package that is so desperately needed is getting these resources,\" she said.\n",
    "\"Even this limited early supply is going to be tough. When we get to a massive vaccination, it gets really challenging.\"\"\",\n",
    "              \"\"\"The United Kingdom and the European Union have warned a no-deal Brexit was now likely, even as they agreed -- once again -- to extend trade talks beyond a self-imposed Sunday deadline.\n",
    "\n",
    "The talks were initially extended until Sunday after Wednesday's meeting between European Commission President Ursula von der Leyen and the UK Prime Minister Boris Johnson, billed as a \"last-ditch effort,\" ended without an agreement.\n",
    "No new deadline has been announced on Sunday, but von der Leyen said it was \"responsible\" to go \"the extra-mile,\" adding that she had \"constructive and useful\" phone call with Johnson.\n",
    "Speaking in London, Johnson said the two sides remain \"far apart on key issues,\" and warned that \"the most likely thing now is we have to get ready for WTO terms, Australia terms,\" he warned.\n",
    "Australia doesn't have a free trade agreement with the European Union, even though talks to secure one are in progress. The expression \"Australia terms\" has been widely used by Johnson and his government as an euphemism for a no-deal Brexit.\n",
    "But the term is misleading, because Australia and the EU already have a Mutual Recognition Agreement, which makes it easier for manufacturers to secure the regulatory approvals needed to sell their goods. However, the UK doesn't have such an agreement with the EU.\n",
    "If no deal is agreed, it would be forced to trade with the bloc according to rules set out by the World Trade Organization. That would mean new tariffs and other barriers, such as regulatory checks and paperwork.\n",
    "The British PM said his government will continue to try to reach a trade deal, but warned there may not be a resolution by the January 1 deadline. \"I do think there is a deal to be done but we remain far apart on key issues.:\n",
    "\"And we have to take back control of our fisheries,\" Johnson said.\n",
    "The European Union and the UK have been trying for months to agree on a trade deal before the Brexit \"transition period\" ends at midnight on December 31. Earlier this week, a joint statement by Johnson and von der Leyen cited three \"critical\" sticking points: fishing rights, the UK's ability to diverge on EU standards, and legal oversight of any deal.\n",
    "Failing to reach a trade deal would be economically painful for both the EU and the UK, although the impact on the UK would be disproportionately larger, because the EU is by far its biggest trading partner. Losing access to its single market would cut UK's businesses off from Europe's 450 million consumers, and burden them with extra tariffs and red tape.\n",
    "The UK Office for Budget Responsibility (OBR) estimates that a no-deal Brexit would knock off £40 billion ($53 billion), or 2%, of the UK's economic output in 2021, and leave more than 300,000 people unemployed by the second half of next year.\n",
    "However, the OBR said in November that even if London and Brussels can reach a deal, their new trading relationship is expected to lead to a long-run loss of output of around 4% compared to Britain remaining in the European Union.\n",
    "Ireland, which stands to lose the most on the EU side, said it was \"absolutely imperative\" that the UK and the EU reach a post-Brexit deal. The Irish Prime Minister, or Taoiseach, Micheál Martin told the BBC on Sunday that a no-deal scenario would be \"so damaging to workers\" in the UK, Ireland and across Europe, and represent \"an appalling failure of statecraft.\"\n",
    "Johnson said on Thursday that he had directed his cabinet to prepare for talks to fail, and the EU has released plans aimed at keeping its borders open to commercial aircraft, trains and trucks.\n",
    "The UK Ministry of Defense said Saturday the UK will have \"a range of robust enforcement measures\" available at the end of the Brexit transition period, including \"numerous\" offshore patrol vessels available in its territorial waters.\n",
    "Four offshore patrol vessels \"will be available to patrol UK waters to assist other government departments where needed,\" the ministry said.\"\"\",\n",
    "           \"\"\"Facebook Class Action Illinois Ccam – Facebook Class Action Illinois Ccam Read Reasons This guide is all about getting the true story behind a famous lawsuit against Facebook.\n",
    "\n",
    "It’s been said that Facebook utilized from Illinois can use Facebook to get a cash payout. As stated by the class-action lawsuit against the social networking business, Facebook has gathered a number of the tales and also a few facial templates of those consumers involving June 7, 2011, and August 19, 2020, to produce the settlement accepted. Additionally, the individual users are entitled to cash payments worth $200-$400.\n",
    "\n",
    "Read this Guide to research more about Facebook Class Action Illinois Scam trending from the United States.\n",
    "\n",
    "\"\"\"]\n",
    "\n",
    "\n",
    "for value in articles:\n",
    "    value = wordCorrect(value)\n",
    "\n",
    "\n",
    "vecTest =vectorizer.transform(articles)\n",
    "\n",
    "\n",
    "pred = log_reg.predict_proba(vecTest)\n",
    "\n",
    "pred\n",
    "\n"
   ]
  },
  {
   "cell_type": "code",
   "execution_count": null,
   "metadata": {},
   "outputs": [],
   "source": []
  }
 ],
 "metadata": {
  "kernelspec": {
   "display_name": "Python 3",
   "language": "python",
   "name": "python3"
  },
  "language_info": {
   "codemirror_mode": {
    "name": "ipython",
    "version": 3
   },
   "file_extension": ".py",
   "mimetype": "text/x-python",
   "name": "python",
   "nbconvert_exporter": "python",
   "pygments_lexer": "ipython3",
   "version": "3.7.3"
  }
 },
 "nbformat": 4,
 "nbformat_minor": 2
}

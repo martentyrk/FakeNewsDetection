{
 "cells": [
  {
   "cell_type": "markdown",
   "metadata": {},
   "source": [
    "### Import everything necessary to build the models"
   ]
  },
  {
   "cell_type": "code",
   "execution_count": 1,
   "metadata": {},
   "outputs": [],
   "source": [
    "import pandas as pd\n",
    "import matplotlib.pyplot as plt\n",
    "import nltk\n",
    "from nltk.tokenize import word_tokenize\n",
    "from nltk.corpus import stopwords\n",
    "from sklearn.model_selection import train_test_split\n",
    "from sklearn.feature_extraction.text import TfidfVectorizer\n",
    "from sklearn.linear_model import LogisticRegression\n",
    "from sklearn.tree import DecisionTreeClassifier\n",
    "from sklearn.ensemble import RandomForestClassifier\n",
    "from sklearn.naive_bayes import MultinomialNB\n",
    "from sklearn.metrics import plot_roc_curve"
   ]
  },
  {
   "cell_type": "markdown",
   "metadata": {},
   "source": [
    "### Download packages for nltk"
   ]
  },
  {
   "cell_type": "code",
   "execution_count": 2,
   "metadata": {},
   "outputs": [
    {
     "name": "stderr",
     "output_type": "stream",
     "text": [
      "[nltk_data] Downloading package stopwords to\n",
      "[nltk_data]     C:\\Users\\Siim\\AppData\\Roaming\\nltk_data...\n",
      "[nltk_data]   Package stopwords is already up-to-date!\n",
      "[nltk_data] Downloading package punkt to\n",
      "[nltk_data]     C:\\Users\\Siim\\AppData\\Roaming\\nltk_data...\n",
      "[nltk_data]   Package punkt is already up-to-date!\n"
     ]
    },
    {
     "data": {
      "text/plain": [
       "True"
      ]
     },
     "execution_count": 2,
     "metadata": {},
     "output_type": "execute_result"
    }
   ],
   "source": [
    "nltk.download(\"stopwords\")\n",
    "nltk.download(\"punkt\")"
   ]
  },
  {
   "cell_type": "markdown",
   "metadata": {},
   "source": [
    "### Read in news data"
   ]
  },
  {
   "cell_type": "code",
   "execution_count": 3,
   "metadata": {},
   "outputs": [],
   "source": [
    "true1 = pd.read_csv(\"./Datasets/true.csv\")\n",
    "true2 = pd.read_csv(\"./Datasets/mix_true.csv\")\n",
    "fake1 = pd.read_csv(\"./Datasets/fake.csv\")\n",
    "fake2 = pd.read_csv(\"./Datasets/mix_fake.csv\")"
   ]
  },
  {
   "cell_type": "code",
   "execution_count": 4,
   "metadata": {},
   "outputs": [
    {
     "data": {
      "text/html": [
       "<div>\n",
       "<style scoped>\n",
       "    .dataframe tbody tr th:only-of-type {\n",
       "        vertical-align: middle;\n",
       "    }\n",
       "\n",
       "    .dataframe tbody tr th {\n",
       "        vertical-align: top;\n",
       "    }\n",
       "\n",
       "    .dataframe thead th {\n",
       "        text-align: right;\n",
       "    }\n",
       "</style>\n",
       "<table border=\"1\" class=\"dataframe\">\n",
       "  <thead>\n",
       "    <tr style=\"text-align: right;\">\n",
       "      <th></th>\n",
       "      <th>title</th>\n",
       "      <th>text</th>\n",
       "      <th>date</th>\n",
       "    </tr>\n",
       "  </thead>\n",
       "  <tbody>\n",
       "    <tr>\n",
       "      <th>0</th>\n",
       "      <td>as u.s  budget fight looms  republicans flip t...</td>\n",
       "      <td>washington  reuters    the head of a conservat...</td>\n",
       "      <td>2017-12-31</td>\n",
       "    </tr>\n",
       "    <tr>\n",
       "      <th>1</th>\n",
       "      <td>u.s  military to accept transgender recruits o...</td>\n",
       "      <td>washington  reuters    transgender people will...</td>\n",
       "      <td>2017-12-29</td>\n",
       "    </tr>\n",
       "    <tr>\n",
       "      <th>2</th>\n",
       "      <td>senior u.s  republican senator   let mr  muell...</td>\n",
       "      <td>washington  reuters    the special cou.sel inv...</td>\n",
       "      <td>2017-12-31</td>\n",
       "    </tr>\n",
       "    <tr>\n",
       "      <th>3</th>\n",
       "      <td>fbi ru.sia probe helped by australian diplomat...</td>\n",
       "      <td>washington  reuters    trump campaign adviser ...</td>\n",
       "      <td>2017-12-30</td>\n",
       "    </tr>\n",
       "    <tr>\n",
       "      <th>4</th>\n",
       "      <td>trump wants postal service to charge  much mor...</td>\n",
       "      <td>seattle washington  reuters    president donal...</td>\n",
       "      <td>2017-12-29</td>\n",
       "    </tr>\n",
       "  </tbody>\n",
       "</table>\n",
       "</div>"
      ],
      "text/plain": [
       "                                               title  \\\n",
       "0  as u.s  budget fight looms  republicans flip t...   \n",
       "1  u.s  military to accept transgender recruits o...   \n",
       "2  senior u.s  republican senator   let mr  muell...   \n",
       "3  fbi ru.sia probe helped by australian diplomat...   \n",
       "4  trump wants postal service to charge  much mor...   \n",
       "\n",
       "                                                text        date  \n",
       "0  washington  reuters    the head of a conservat...  2017-12-31  \n",
       "1  washington  reuters    transgender people will...  2017-12-29  \n",
       "2  washington  reuters    the special cou.sel inv...  2017-12-31  \n",
       "3  washington  reuters    trump campaign adviser ...  2017-12-30  \n",
       "4  seattle washington  reuters    president donal...  2017-12-29  "
      ]
     },
     "execution_count": 4,
     "metadata": {},
     "output_type": "execute_result"
    }
   ],
   "source": [
    "true1.head()"
   ]
  },
  {
   "cell_type": "code",
   "execution_count": 5,
   "metadata": {},
   "outputs": [
    {
     "data": {
      "text/html": [
       "<div>\n",
       "<style scoped>\n",
       "    .dataframe tbody tr th:only-of-type {\n",
       "        vertical-align: middle;\n",
       "    }\n",
       "\n",
       "    .dataframe tbody tr th {\n",
       "        vertical-align: top;\n",
       "    }\n",
       "\n",
       "    .dataframe thead th {\n",
       "        text-align: right;\n",
       "    }\n",
       "</style>\n",
       "<table border=\"1\" class=\"dataframe\">\n",
       "  <thead>\n",
       "    <tr style=\"text-align: right;\">\n",
       "      <th></th>\n",
       "      <th>title</th>\n",
       "      <th>text</th>\n",
       "      <th>date</th>\n",
       "    </tr>\n",
       "  </thead>\n",
       "  <tbody>\n",
       "    <tr>\n",
       "      <th>0</th>\n",
       "      <td>intl community still financing protecting terr...</td>\n",
       "      <td>st century wire says  wire reported on friday ...</td>\n",
       "      <td>2016-10-26</td>\n",
       "    </tr>\n",
       "    <tr>\n",
       "      <th>1</th>\n",
       "      <td>fbi director comeys leaked memo explains why h...</td>\n",
       "      <td>in a stunning turn of events  days before the ...</td>\n",
       "      <td>2016-10-29</td>\n",
       "    </tr>\n",
       "    <tr>\n",
       "      <th>2</th>\n",
       "      <td>fbi redux whats behind new probe into hillary ...</td>\n",
       "      <td>a tidal wave of revelations is pouring out of ...</td>\n",
       "      <td>2016-10-29</td>\n",
       "    </tr>\n",
       "    <tr>\n",
       "      <th>3</th>\n",
       "      <td>party corruption clinton campaign directly tie...</td>\n",
       "      <td>november   by wire  comments  patrick hennings...</td>\n",
       "      <td>2016-11-01</td>\n",
       "    </tr>\n",
       "    <tr>\n",
       "      <th>4</th>\n",
       "      <td>hillarys ru.sian hack hoax the biggest lie of ...</td>\n",
       "      <td>november   by shawn helton  comment  shawn hel...</td>\n",
       "      <td>2016-11-01</td>\n",
       "    </tr>\n",
       "  </tbody>\n",
       "</table>\n",
       "</div>"
      ],
      "text/plain": [
       "                                               title  \\\n",
       "0  intl community still financing protecting terr...   \n",
       "1  fbi director comeys leaked memo explains why h...   \n",
       "2  fbi redux whats behind new probe into hillary ...   \n",
       "3  party corruption clinton campaign directly tie...   \n",
       "4  hillarys ru.sian hack hoax the biggest lie of ...   \n",
       "\n",
       "                                                text        date  \n",
       "0  st century wire says  wire reported on friday ...  2016-10-26  \n",
       "1  in a stunning turn of events  days before the ...  2016-10-29  \n",
       "2  a tidal wave of revelations is pouring out of ...  2016-10-29  \n",
       "3  november   by wire  comments  patrick hennings...  2016-11-01  \n",
       "4  november   by shawn helton  comment  shawn hel...  2016-11-01  "
      ]
     },
     "execution_count": 5,
     "metadata": {},
     "output_type": "execute_result"
    }
   ],
   "source": [
    "fake2.head()"
   ]
  },
  {
   "cell_type": "markdown",
   "metadata": {},
   "source": [
    "### Assign a class value of 1 to legitimate news and a class value of 0 to fake news"
   ]
  },
  {
   "cell_type": "code",
   "execution_count": 6,
   "metadata": {},
   "outputs": [],
   "source": [
    "true1[\"class\"] = 1\n",
    "true2[\"class\"] = 1"
   ]
  },
  {
   "cell_type": "code",
   "execution_count": 7,
   "metadata": {},
   "outputs": [],
   "source": [
    "fake1[\"class\"] = 0\n",
    "fake2[\"class\"] = 0"
   ]
  },
  {
   "cell_type": "markdown",
   "metadata": {},
   "source": [
    "### Combine all the fake and legitimate news into one dataframe"
   ]
  },
  {
   "cell_type": "code",
   "execution_count": 8,
   "metadata": {},
   "outputs": [
    {
     "data": {
      "text/html": [
       "<div>\n",
       "<style scoped>\n",
       "    .dataframe tbody tr th:only-of-type {\n",
       "        vertical-align: middle;\n",
       "    }\n",
       "\n",
       "    .dataframe tbody tr th {\n",
       "        vertical-align: top;\n",
       "    }\n",
       "\n",
       "    .dataframe thead th {\n",
       "        text-align: right;\n",
       "    }\n",
       "</style>\n",
       "<table border=\"1\" class=\"dataframe\">\n",
       "  <thead>\n",
       "    <tr style=\"text-align: right;\">\n",
       "      <th></th>\n",
       "      <th>title</th>\n",
       "      <th>text</th>\n",
       "      <th>date</th>\n",
       "      <th>class</th>\n",
       "    </tr>\n",
       "  </thead>\n",
       "  <tbody>\n",
       "    <tr>\n",
       "      <th>0</th>\n",
       "      <td>as u.s  budget fight looms  republicans flip t...</td>\n",
       "      <td>washington  reuters    the head of a conservat...</td>\n",
       "      <td>2017-12-31</td>\n",
       "      <td>1</td>\n",
       "    </tr>\n",
       "    <tr>\n",
       "      <th>1</th>\n",
       "      <td>u.s  military to accept transgender recruits o...</td>\n",
       "      <td>washington  reuters    transgender people will...</td>\n",
       "      <td>2017-12-29</td>\n",
       "      <td>1</td>\n",
       "    </tr>\n",
       "    <tr>\n",
       "      <th>2</th>\n",
       "      <td>senior u.s  republican senator   let mr  muell...</td>\n",
       "      <td>washington  reuters    the special cou.sel inv...</td>\n",
       "      <td>2017-12-31</td>\n",
       "      <td>1</td>\n",
       "    </tr>\n",
       "    <tr>\n",
       "      <th>3</th>\n",
       "      <td>fbi ru.sia probe helped by australian diplomat...</td>\n",
       "      <td>washington  reuters    trump campaign adviser ...</td>\n",
       "      <td>2017-12-30</td>\n",
       "      <td>1</td>\n",
       "    </tr>\n",
       "    <tr>\n",
       "      <th>4</th>\n",
       "      <td>trump wants postal service to charge  much mor...</td>\n",
       "      <td>seattle washington  reuters    president donal...</td>\n",
       "      <td>2017-12-29</td>\n",
       "      <td>1</td>\n",
       "    </tr>\n",
       "    <tr>\n",
       "      <th>...</th>\n",
       "      <td>...</td>\n",
       "      <td>...</td>\n",
       "      <td>...</td>\n",
       "      <td>...</td>\n",
       "    </tr>\n",
       "    <tr>\n",
       "      <th>1285</th>\n",
       "      <td>how to report voter fraud  crash cou.se</td>\n",
       "      <td>print sidebyside of bill clinton and danney wi...</td>\n",
       "      <td>2016-11-08</td>\n",
       "      <td>0</td>\n",
       "    </tr>\n",
       "    <tr>\n",
       "      <th>1286</th>\n",
       "      <td>national attention on ayotte  hassan nh senate...</td>\n",
       "      <td>print  have you ever noticed how washington al...</td>\n",
       "      <td>2016-11-09</td>\n",
       "      <td>0</td>\n",
       "    </tr>\n",
       "    <tr>\n",
       "      <th>1287</th>\n",
       "      <td>how to have honest elections</td>\n",
       "      <td>will it be representative government or thugoc...</td>\n",
       "      <td>2016-11-12</td>\n",
       "      <td>0</td>\n",
       "    </tr>\n",
       "    <tr>\n",
       "      <th>1288</th>\n",
       "      <td>all wars are bankers wars</td>\n",
       "      <td>for those who are too young or too unwilling t...</td>\n",
       "      <td>2016-11-18</td>\n",
       "      <td>0</td>\n",
       "    </tr>\n",
       "    <tr>\n",
       "      <th>1289</th>\n",
       "      <td>snow reports from around the northland duluth ...</td>\n",
       "      <td>while democrats perpetually circle the wagons ...</td>\n",
       "      <td>2016-11-19</td>\n",
       "      <td>0</td>\n",
       "    </tr>\n",
       "  </tbody>\n",
       "</table>\n",
       "<p>46896 rows × 4 columns</p>\n",
       "</div>"
      ],
      "text/plain": [
       "                                                  title  \\\n",
       "0     as u.s  budget fight looms  republicans flip t...   \n",
       "1     u.s  military to accept transgender recruits o...   \n",
       "2     senior u.s  republican senator   let mr  muell...   \n",
       "3     fbi ru.sia probe helped by australian diplomat...   \n",
       "4     trump wants postal service to charge  much mor...   \n",
       "...                                                 ...   \n",
       "1285            how to report voter fraud  crash cou.se   \n",
       "1286  national attention on ayotte  hassan nh senate...   \n",
       "1287                       how to have honest elections   \n",
       "1288                          all wars are bankers wars   \n",
       "1289  snow reports from around the northland duluth ...   \n",
       "\n",
       "                                                   text        date  class  \n",
       "0     washington  reuters    the head of a conservat...  2017-12-31      1  \n",
       "1     washington  reuters    transgender people will...  2017-12-29      1  \n",
       "2     washington  reuters    the special cou.sel inv...  2017-12-31      1  \n",
       "3     washington  reuters    trump campaign adviser ...  2017-12-30      1  \n",
       "4     seattle washington  reuters    president donal...  2017-12-29      1  \n",
       "...                                                 ...         ...    ...  \n",
       "1285  print sidebyside of bill clinton and danney wi...  2016-11-08      0  \n",
       "1286  print  have you ever noticed how washington al...  2016-11-09      0  \n",
       "1287  will it be representative government or thugoc...  2016-11-12      0  \n",
       "1288  for those who are too young or too unwilling t...  2016-11-18      0  \n",
       "1289  while democrats perpetually circle the wagons ...  2016-11-19      0  \n",
       "\n",
       "[46896 rows x 4 columns]"
      ]
     },
     "execution_count": 8,
     "metadata": {},
     "output_type": "execute_result"
    }
   ],
   "source": [
    "data = pd.concat([true1, true2, fake1,fake2], axis=0)\n",
    "data"
   ]
  },
  {
   "cell_type": "markdown",
   "metadata": {},
   "source": [
    "### We will only be classifying the news based on text"
   ]
  },
  {
   "cell_type": "code",
   "execution_count": 9,
   "metadata": {},
   "outputs": [],
   "source": [
    "data = data.drop(data.columns.difference([\"text\", \"class\"]), axis=1)"
   ]
  },
  {
   "cell_type": "code",
   "execution_count": 10,
   "metadata": {},
   "outputs": [
    {
     "data": {
      "text/html": [
       "<div>\n",
       "<style scoped>\n",
       "    .dataframe tbody tr th:only-of-type {\n",
       "        vertical-align: middle;\n",
       "    }\n",
       "\n",
       "    .dataframe tbody tr th {\n",
       "        vertical-align: top;\n",
       "    }\n",
       "\n",
       "    .dataframe thead th {\n",
       "        text-align: right;\n",
       "    }\n",
       "</style>\n",
       "<table border=\"1\" class=\"dataframe\">\n",
       "  <thead>\n",
       "    <tr style=\"text-align: right;\">\n",
       "      <th></th>\n",
       "      <th>text</th>\n",
       "      <th>class</th>\n",
       "    </tr>\n",
       "  </thead>\n",
       "  <tbody>\n",
       "    <tr>\n",
       "      <th>0</th>\n",
       "      <td>washington  reuters    the head of a conservat...</td>\n",
       "      <td>1</td>\n",
       "    </tr>\n",
       "    <tr>\n",
       "      <th>1</th>\n",
       "      <td>washington  reuters    transgender people will...</td>\n",
       "      <td>1</td>\n",
       "    </tr>\n",
       "    <tr>\n",
       "      <th>2</th>\n",
       "      <td>washington  reuters    the special cou.sel inv...</td>\n",
       "      <td>1</td>\n",
       "    </tr>\n",
       "    <tr>\n",
       "      <th>3</th>\n",
       "      <td>washington  reuters    trump campaign adviser ...</td>\n",
       "      <td>1</td>\n",
       "    </tr>\n",
       "    <tr>\n",
       "      <th>4</th>\n",
       "      <td>seattle washington  reuters    president donal...</td>\n",
       "      <td>1</td>\n",
       "    </tr>\n",
       "    <tr>\n",
       "      <th>...</th>\n",
       "      <td>...</td>\n",
       "      <td>...</td>\n",
       "    </tr>\n",
       "    <tr>\n",
       "      <th>1285</th>\n",
       "      <td>print sidebyside of bill clinton and danney wi...</td>\n",
       "      <td>0</td>\n",
       "    </tr>\n",
       "    <tr>\n",
       "      <th>1286</th>\n",
       "      <td>print  have you ever noticed how washington al...</td>\n",
       "      <td>0</td>\n",
       "    </tr>\n",
       "    <tr>\n",
       "      <th>1287</th>\n",
       "      <td>will it be representative government or thugoc...</td>\n",
       "      <td>0</td>\n",
       "    </tr>\n",
       "    <tr>\n",
       "      <th>1288</th>\n",
       "      <td>for those who are too young or too unwilling t...</td>\n",
       "      <td>0</td>\n",
       "    </tr>\n",
       "    <tr>\n",
       "      <th>1289</th>\n",
       "      <td>while democrats perpetually circle the wagons ...</td>\n",
       "      <td>0</td>\n",
       "    </tr>\n",
       "  </tbody>\n",
       "</table>\n",
       "<p>46896 rows × 2 columns</p>\n",
       "</div>"
      ],
      "text/plain": [
       "                                                   text  class\n",
       "0     washington  reuters    the head of a conservat...      1\n",
       "1     washington  reuters    transgender people will...      1\n",
       "2     washington  reuters    the special cou.sel inv...      1\n",
       "3     washington  reuters    trump campaign adviser ...      1\n",
       "4     seattle washington  reuters    president donal...      1\n",
       "...                                                 ...    ...\n",
       "1285  print sidebyside of bill clinton and danney wi...      0\n",
       "1286  print  have you ever noticed how washington al...      0\n",
       "1287  will it be representative government or thugoc...      0\n",
       "1288  for those who are too young or too unwilling t...      0\n",
       "1289  while democrats perpetually circle the wagons ...      0\n",
       "\n",
       "[46896 rows x 2 columns]"
      ]
     },
     "execution_count": 10,
     "metadata": {},
     "output_type": "execute_result"
    }
   ],
   "source": [
    "data"
   ]
  },
  {
   "cell_type": "markdown",
   "metadata": {},
   "source": [
    "### Split the data into training and test data\n"
   ]
  },
  {
   "cell_type": "code",
   "execution_count": 11,
   "metadata": {},
   "outputs": [],
   "source": [
    "x_train, x_test, y_train, y_test = train_test_split(data[\"text\"], data[\"class\"], test_size=0.25)"
   ]
  },
  {
   "cell_type": "markdown",
   "metadata": {},
   "source": [
    "### Vectorize the text so the models can actually interpret it"
   ]
  },
  {
   "cell_type": "code",
   "execution_count": 12,
   "metadata": {},
   "outputs": [],
   "source": [
    "# We will be ignoring stop words such as \"the\" \"and\" \"or\"\n",
    "vectorizer = TfidfVectorizer(stop_words=stopwords.words(\"english\"))\n",
    "x_train_vectorized = vectorizer.fit_transform(x_train)\n",
    "x_test_vectorized = vectorizer.transform(x_test)"
   ]
  },
  {
   "cell_type": "markdown",
   "metadata": {},
   "source": [
    "### Logistic Regression model"
   ]
  },
  {
   "cell_type": "code",
   "execution_count": 13,
   "metadata": {},
   "outputs": [
    {
     "name": "stdout",
     "output_type": "stream",
     "text": [
      "LogisticRegression accuracy: 0.973899692937564\n"
     ]
    }
   ],
   "source": [
    "log_reg = LogisticRegression()\n",
    "log_reg.fit(x_train_vectorized, y_train)\n",
    "pred = log_reg.predict(x_test_vectorized)\n",
    "print(f\"{log_reg.__class__.__name__} accuracy: {log_reg.score(x_test_vectorized, y_test)}\")"
   ]
  },
  {
   "cell_type": "markdown",
   "metadata": {},
   "source": [
    "### Decision tree classifier"
   ]
  },
  {
   "cell_type": "code",
   "execution_count": 14,
   "metadata": {},
   "outputs": [
    {
     "name": "stdout",
     "output_type": "stream",
     "text": [
      "DecisionTreeClassifier accuracy: 0.982173319686114\n"
     ]
    }
   ],
   "source": [
    "decision_tree = DecisionTreeClassifier(max_depth=100)\n",
    "decision_tree.fit(x_train_vectorized, y_train)\n",
    "\n",
    "print(f\"{decision_tree.__class__.__name__} accuracy: {decision_tree.score(x_test_vectorized, y_test)}\")"
   ]
  },
  {
   "cell_type": "markdown",
   "metadata": {},
   "source": [
    "### Random forest classifier"
   ]
  },
  {
   "cell_type": "code",
   "execution_count": 29,
   "metadata": {},
   "outputs": [
    {
     "name": "stdout",
     "output_type": "stream",
     "text": [
      "RandomForestClassifier accuracy: 0.9493346980552713\n"
     ]
    }
   ],
   "source": [
    "random_forest = RandomForestClassifier(n_estimators=10, max_depth=100)\n",
    "random_forest.fit(x_train_vectorized, y_train)\n",
    "\n",
    "print(f\"{random_forest.__class__.__name__} accuracy: {random_forest.score(x_test_vectorized, y_test)}\")"
   ]
  },
  {
   "cell_type": "markdown",
   "metadata": {},
   "source": [
    "### Multinomial naive Bayes model"
   ]
  },
  {
   "cell_type": "code",
   "execution_count": 28,
   "metadata": {},
   "outputs": [
    {
     "name": "stdout",
     "output_type": "stream",
     "text": [
      "MultinomialNB accuracy: 0.9235755714773115\n"
     ]
    }
   ],
   "source": [
    "multi_nb = MultinomialNB()\n",
    "multi_nb.fit(x_train_vectorized, y_train)\n",
    "print(f\"{multi_nb.__class__.__name__} accuracy: {multi_nb.score(x_test_vectorized, y_test)}\")"
   ]
  },
  {
   "cell_type": "markdown",
   "metadata": {},
   "source": [
    "### ROC curves to show the performance of each model. Shown seperately and all on one plot."
   ]
  },
  {
   "cell_type": "code",
   "execution_count": 27,
   "metadata": {},
   "outputs": [
    {
     "data": {
      "text/plain": [
       "<sklearn.metrics._plot.roc_curve.RocCurveDisplay at 0x294b5ffef10>"
      ]
     },
     "execution_count": 27,
     "metadata": {},
     "output_type": "execute_result"
    },
    {
     "data": {
      "image/png": "[encoded data removed]",
      "text/plain": [
       "<Figure size 432x288 with 1 Axes>"
      ]
     },
     "metadata": {
      "needs_background": "light"
     },
     "output_type": "display_data"
    },
    {
     "data": {
      "image/png": "[encoded data removed]",
      "text/plain": [
       "<Figure size 432x288 with 1 Axes>"
      ]
     },
     "metadata": {
      "needs_background": "light"
     },
     "output_type": "display_data"
    },
    {
     "data": {
      "image/png": "[encoded data removed]",
      "text/plain": [
       "<Figure size 432x288 with 1 Axes>"
      ]
     },
     "metadata": {
      "needs_background": "light"
     },
     "output_type": "display_data"
    },
    {
     "data": {
      "image/png": "[encoded data removed]",
      "text/plain": [
       "<Figure size 432x288 with 1 Axes>"
      ]
     },
     "metadata": {
      "needs_background": "light"
     },
     "output_type": "display_data"
    },
    {
     "data": {
      "image/png": "[encoded data removed]",
      "text/plain": [
       "<Figure size 432x288 with 1 Axes>"
      ]
     },
     "metadata": {
      "needs_background": "light"
     },
     "output_type": "display_data"
    }
   ],
   "source": [
    "ax = plt.gca()\n",
    "log_reg_disp = plot_roc_curve(log_reg, x_test_vectorized, y_test, alpha=0.8)\n",
    "decision_tree_disp = plot_roc_curve(decision_tree, x_test_vectorized, y_test, alpha=0.8)\n",
    "random_forest_disp = plot_roc_curve(random_forest, x_test_vectorized, y_test, alpha=0.8)\n",
    "multi_nb_disp = plot_roc_curve(multi_nb, x_test_vectorized, y_test, alpha=0.8)\n",
    "decision_tree_disp.plot(ax=ax, alpha=0.8)\n",
    "log_reg_disp.plot(ax=ax,alpha=0.8)\n",
    "random_forest_disp.plot(ax=ax,alpha=0.8)\n",
    "multi_nb_disp.plot(ax=ax, alpha=0.8)"
   ]
  }
 ],
 "metadata": {
  "kernelspec": {
   "display_name": "Python 3",
   "language": "python",
   "name": "python3"
  },
  "language_info": {
   "codemirror_mode": {
    "name": "ipython",
    "version": 3
   },
   "file_extension": ".py",
   "mimetype": "text/x-python",
   "name": "python",
   "nbconvert_exporter": "python",
   "pygments_lexer": "ipython3",
   "version": "3.8.5"
  }
 },
 "nbformat": 4,
 "nbformat_minor": 2
}
